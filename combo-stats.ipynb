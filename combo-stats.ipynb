{
 "cells": [
  {
   "cell_type": "code",
   "execution_count": 1,
   "metadata": {},
   "outputs": [],
   "source": [
    "import pandas as pd\n",
    "import numpy as np\n",
    "%matplotlib inline\n",
    "import matplotlib.pyplot as plt"
   ]
  },
  {
   "cell_type": "code",
   "execution_count": 2,
   "metadata": {},
   "outputs": [],
   "source": [
    "# get ahold of the CSV files that we will be working with \n",
    "df = pd.read_csv('./since2012/2012-18_playerBoxScore.csv')"
   ]
  },
  {
   "cell_type": "code",
   "execution_count": 3,
   "metadata": {},
   "outputs": [
    {
     "data": {
      "text/plain": [
       "(155713, 51)"
      ]
     },
     "execution_count": 3,
     "metadata": {},
     "output_type": "execute_result"
    }
   ],
   "source": [
    "df.shape"
   ]
  },
  {
   "cell_type": "code",
   "execution_count": 4,
   "metadata": {},
   "outputs": [
    {
     "data": {
      "text/html": [
       "<div>\n",
       "<style scoped>\n",
       "    .dataframe tbody tr th:only-of-type {\n",
       "        vertical-align: middle;\n",
       "    }\n",
       "\n",
       "    .dataframe tbody tr th {\n",
       "        vertical-align: top;\n",
       "    }\n",
       "\n",
       "    .dataframe thead th {\n",
       "        text-align: right;\n",
       "    }\n",
       "</style>\n",
       "<table border=\"1\" class=\"dataframe\">\n",
       "  <thead>\n",
       "    <tr style=\"text-align: right;\">\n",
       "      <th></th>\n",
       "      <th>gmDate</th>\n",
       "      <th>gmTime</th>\n",
       "      <th>seasTyp</th>\n",
       "      <th>playLNm</th>\n",
       "      <th>playFNm</th>\n",
       "      <th>teamAbbr</th>\n",
       "      <th>teamConf</th>\n",
       "      <th>teamDiv</th>\n",
       "      <th>teamLoc</th>\n",
       "      <th>teamRslt</th>\n",
       "      <th>...</th>\n",
       "      <th>playFT%</th>\n",
       "      <th>playORB</th>\n",
       "      <th>playDRB</th>\n",
       "      <th>playTRB</th>\n",
       "      <th>opptAbbr</th>\n",
       "      <th>opptConf</th>\n",
       "      <th>opptDiv</th>\n",
       "      <th>opptLoc</th>\n",
       "      <th>opptRslt</th>\n",
       "      <th>opptDayOff</th>\n",
       "    </tr>\n",
       "  </thead>\n",
       "  <tbody>\n",
       "    <tr>\n",
       "      <th>0</th>\n",
       "      <td>10/30/2012</td>\n",
       "      <td>19:00</td>\n",
       "      <td>Regular</td>\n",
       "      <td>Price</td>\n",
       "      <td>A.J.</td>\n",
       "      <td>WAS</td>\n",
       "      <td>East</td>\n",
       "      <td>Southeast</td>\n",
       "      <td>Away</td>\n",
       "      <td>Loss</td>\n",
       "      <td>...</td>\n",
       "      <td>1.0</td>\n",
       "      <td>1</td>\n",
       "      <td>1</td>\n",
       "      <td>2</td>\n",
       "      <td>CLE</td>\n",
       "      <td>East</td>\n",
       "      <td>Central</td>\n",
       "      <td>Home</td>\n",
       "      <td>Win</td>\n",
       "      <td>0</td>\n",
       "    </tr>\n",
       "  </tbody>\n",
       "</table>\n",
       "<p>1 rows × 51 columns</p>\n",
       "</div>"
      ],
      "text/plain": [
       "       gmDate gmTime  seasTyp playLNm playFNm teamAbbr teamConf    teamDiv  \\\n",
       "0  10/30/2012  19:00  Regular   Price    A.J.      WAS     East  Southeast   \n",
       "\n",
       "  teamLoc teamRslt  ...  playFT% playORB playDRB playTRB opptAbbr opptConf  \\\n",
       "0    Away     Loss  ...      1.0       1       1       2      CLE     East   \n",
       "\n",
       "   opptDiv opptLoc opptRslt  opptDayOff  \n",
       "0  Central    Home      Win           0  \n",
       "\n",
       "[1 rows x 51 columns]"
      ]
     },
     "execution_count": 4,
     "metadata": {},
     "output_type": "execute_result"
    }
   ],
   "source": [
    "df.head(1)"
   ]
  },
  {
   "cell_type": "code",
   "execution_count": 13,
   "metadata": {},
   "outputs": [
    {
     "data": {
      "text/plain": [
       "Index(['gmDate', 'gmTime', 'seasTyp', 'playLNm', 'playFNm', 'teamAbbr',\n",
       "       'teamConf', 'teamDiv', 'teamLoc', 'teamRslt', 'teamDayOff', 'offLNm1',\n",
       "       'offFNm1', 'offLNm2', 'offFNm2', 'offLNm3', 'offFNm3', 'playDispNm',\n",
       "       'playStat', 'playMin', 'playPos', 'playHeight', 'playWeight',\n",
       "       'playBDate', 'playPTS', 'playAST', 'playTO', 'playSTL', 'playBLK',\n",
       "       'playPF', 'playFGA', 'playFGM', 'playFG%', 'play2PA', 'play2PM',\n",
       "       'play2P%', 'play3PA', 'play3PM', 'play3P%', 'playFTA', 'playFTM',\n",
       "       'playFT%', 'playORB', 'playDRB', 'playTRB', 'opptAbbr', 'opptConf',\n",
       "       'opptDiv', 'opptLoc', 'opptRslt', 'opptDayOff'],\n",
       "      dtype='object')"
      ]
     },
     "execution_count": 13,
     "metadata": {},
     "output_type": "execute_result"
    }
   ],
   "source": [
    "df.columns"
   ]
  },
  {
   "cell_type": "code",
   "execution_count": 12,
   "metadata": {},
   "outputs": [
    {
     "name": "stdout",
     "output_type": "stream",
     "text": [
      "29\n",
      "19\n",
      "0.6551724137931034\n"
     ]
    }
   ],
   "source": [
    "r25_df = df[df['playTRB'] >= 25]\n",
    "print(len(r25_df))\n",
    "wr25_df = r25_df[r25_df['teamRslt'] == 'Win']\n",
    "print(len(wr25_df))\n",
    "print(len(wr25_df) / len(r25_df))"
   ]
  },
  {
   "cell_type": "markdown",
   "metadata": {},
   "source": [
    "## Only 65% of players who recored 25+ rebound in a game won that game"
   ]
  },
  {
   "cell_type": "code",
   "execution_count": 14,
   "metadata": {},
   "outputs": [
    {
     "name": "stdout",
     "output_type": "stream",
     "text": [
      "253\n",
      "124\n",
      "0.4901185770750988\n"
     ]
    }
   ],
   "source": [
    "min48_df = df[df['playMin'] >= 48]\n",
    "print(len(min48_df))\n",
    "wmin48_df = min48_df[min48_df['teamRslt'] == 'Win']\n",
    "print(len(wmin48_df))\n",
    "print(len(wmin48_df) / len(min48_df))"
   ]
  },
  {
   "cell_type": "markdown",
   "metadata": {},
   "source": [
    "## If a play plays at least 48 mins, their team only wins 49% of the time"
   ]
  },
  {
   "cell_type": "code",
   "execution_count": 16,
   "metadata": {},
   "outputs": [
    {
     "name": "stdout",
     "output_type": "stream",
     "text": [
      "178\n",
      "129\n",
      "0.7247191011235955\n"
     ]
    }
   ],
   "source": [
    "threes_df = df[df['play3PA'] >= 8]\n",
    "threes_df = threes_df[threes_df['play3P%'] >= 0.75]\n",
    "print(len(threes_df))\n",
    "wthrees_df = threes_df[threes_df['teamRslt'] == 'Win']\n",
    "print(len(wthrees_df))\n",
    "print(len(wthrees_df) / len(threes_df))"
   ]
  },
  {
   "cell_type": "markdown",
   "metadata": {},
   "source": [
    "### if a player shoots over 75% from three, with at least 8 attempts their team wins over 72% of the time."
   ]
  },
  {
   "cell_type": "code",
   "execution_count": 17,
   "metadata": {},
   "outputs": [
    {
     "name": "stdout",
     "output_type": "stream",
     "text": [
      "55\n",
      "43\n",
      "0.7818181818181819\n"
     ]
    }
   ],
   "source": [
    "p50_df = df[df['playPTS'] >= 50]\n",
    "print(len(p50_df))\n",
    "wp50_df = p50_df[p50_df['teamRslt'] == 'Win']\n",
    "print(len(wp50_df))\n",
    "print(len(wp50_df) / len(p50_df))"
   ]
  },
  {
   "cell_type": "markdown",
   "metadata": {},
   "source": [
    "## If a players scored at least 50 points their team wins 78% of the time"
   ]
  },
  {
   "cell_type": "code",
   "execution_count": 19,
   "metadata": {},
   "outputs": [
    {
     "name": "stdout",
     "output_type": "stream",
     "text": [
      "6\n",
      "5\n",
      "0.8333333333333334\n"
     ]
    }
   ],
   "source": [
    "p60_df = df[df['playPTS'] >= 60]\n",
    "print(len(p60_df))\n",
    "wp60_df = p60_df[p60_df['teamRslt'] == 'Win']\n",
    "print(len(wp60_df))\n",
    "print(len(wp60_df) / len(p60_df))"
   ]
  },
  {
   "cell_type": "markdown",
   "metadata": {},
   "source": [
    "## teams won 5 of 6 times a player on their team scored 60 or more points"
   ]
  },
  {
   "cell_type": "code",
   "execution_count": 28,
   "metadata": {},
   "outputs": [
    {
     "name": "stdout",
     "output_type": "stream",
     "text": [
      "13\n",
      "10\n",
      "0.7692307692307693\n"
     ]
    }
   ],
   "source": [
    "f20_df = df[df['playFTM'] >= 20]\n",
    "print(len(f20_df))\n",
    "wf20_df = f20_df[f20_df['teamRslt'] == 'Win']\n",
    "print(len(wf20_df))\n",
    "print(len(wf20_df) / len(f20_df))"
   ]
  },
  {
   "cell_type": "markdown",
   "metadata": {},
   "source": [
    "### If a player made 20+ free throws in a game their teams win 77% of the time"
   ]
  },
  {
   "cell_type": "code",
   "execution_count": 27,
   "metadata": {},
   "outputs": [
    {
     "name": "stdout",
     "output_type": "stream",
     "text": [
      "153\n",
      "115\n",
      "0.7516339869281046\n"
     ]
    }
   ],
   "source": [
    "threes8_df = df[df['play3PM'] >= 8]\n",
    "print(len(threes8_df))\n",
    "wthrees8_df = threes8_df[threes8_df['teamRslt'] == 'Win']\n",
    "print(len(wthrees8_df))\n",
    "print(len(wthrees8_df) / len(threes8_df))"
   ]
  },
  {
   "cell_type": "markdown",
   "metadata": {},
   "source": [
    "## When a player hits 8 threes in a game their team wins 75% of the time"
   ]
  },
  {
   "cell_type": "code",
   "execution_count": 35,
   "metadata": {},
   "outputs": [
    {
     "name": "stdout",
     "output_type": "stream",
     "text": [
      "1163\n",
      "831\n",
      "0.7145313843508169\n"
     ]
    }
   ],
   "source": [
    "thirty_df = df[df['playPTS'] >= 30]\n",
    "thirty60_df = thirty_df[thirty_df['playFG%'] >= 0.6]\n",
    "print(len(thirty60_df))\n",
    "wthirty60_df = thirty60_df[thirty60_df['teamRslt'] == 'Win']\n",
    "print(len(wthirty60_df))\n",
    "print(len(wthirty60_df) / len(thirty60_df))"
   ]
  },
  {
   "cell_type": "markdown",
   "metadata": {},
   "source": [
    "### If a player scores 30+ points and shoots at least 60% from the field his team wins over 71% of the time."
   ]
  },
  {
   "cell_type": "code",
   "execution_count": 42,
   "metadata": {},
   "outputs": [
    {
     "name": "stdout",
     "output_type": "stream",
     "text": [
      "118\n",
      "69\n",
      "0.5847457627118644\n"
     ]
    }
   ],
   "source": [
    "twenty20_df = df[df['playPTS'] >= 20]\n",
    "twenty20_df = twenty20_df[twenty20_df['playTRB'] >= 20]\n",
    "print(len(twenty20_df))\n",
    "wtwenty20_df = twenty20_df[twenty20_df['teamRslt'] == 'Win']\n",
    "print(len(wtwenty20_df))\n",
    "print(len(wtwenty20_df) / len(twenty20_df))"
   ]
  },
  {
   "cell_type": "markdown",
   "metadata": {},
   "source": [
    "### When a player has at least 20 points and 20 rebounds his team only wins about 58% of the time"
   ]
  },
  {
   "cell_type": "code",
   "execution_count": 49,
   "metadata": {},
   "outputs": [
    {
     "name": "stdout",
     "output_type": "stream",
     "text": [
      "13\n",
      "9\n",
      "0.6923076923076923\n"
     ]
    }
   ],
   "source": [
    "a20_df = df[df['playAST'] >= 20]\n",
    "print(len(a20_df))\n",
    "wa20_df = a20_df[a20_df['teamRslt'] == 'Win']\n",
    "print(len(wa20_df))\n",
    "print(len(wa20_df) / len(a20_df))"
   ]
  },
  {
   "cell_type": "markdown",
   "metadata": {},
   "source": [
    "### Teams won 9 of 13 times a player scored 20+ points and has 20+ assists."
   ]
  },
  {
   "cell_type": "code",
   "execution_count": 52,
   "metadata": {},
   "outputs": [
    {
     "name": "stdout",
     "output_type": "stream",
     "text": [
      "62709\n",
      "95\n",
      "76\n",
      "0.8\n"
     ]
    }
   ],
   "source": [
    "under20_df = df[df['playMin'] <= 20]\n",
    "print(len(under20_df))\n",
    "under20_df = under20_df[under20_df['playPTS'] >= 20]\n",
    "print(len(under20_df))\n",
    "wunder20_df = under20_df[under20_df['teamRslt'] == 'Win']\n",
    "print(len(wunder20_df))\n",
    "print(len(wunder20_df) / len(under20_df))"
   ]
  },
  {
   "cell_type": "markdown",
   "metadata": {},
   "source": [
    "## A team wins 80% of the time if a player scores 20+ points in 20 or less minutes"
   ]
  },
  {
   "cell_type": "code",
   "execution_count": 60,
   "metadata": {},
   "outputs": [
    {
     "name": "stdout",
     "output_type": "stream",
     "text": [
      "33091\n",
      "12110\n",
      "1102\n",
      "584\n",
      "0.52994555353902\n"
     ]
    }
   ],
   "source": [
    "pg_df = df[df['playPos'] == 'PG']\n",
    "print(len(pg_df))\n",
    "pg_df = pg_df[pg_df['playMin'] >= 30]\n",
    "print(len(pg_df))\n",
    "pg_df = pg_df[pg_df['playTO'] == 0]\n",
    "print(len(pg_df))\n",
    "wpg_df = pg_df[pg_df['teamRslt'] == 'Win']\n",
    "print(len(wpg_df))\n",
    "print(len(wpg_df) / len(pg_df))"
   ]
  },
  {
   "cell_type": "markdown",
   "metadata": {},
   "source": [
    "## PGs not having turnovers is not a strong indicator as to whether a team would win"
   ]
  },
  {
   "cell_type": "code",
   "execution_count": 72,
   "metadata": {},
   "outputs": [
    {
     "name": "stdout",
     "output_type": "stream",
     "text": [
      "7989\n",
      "2713\n",
      "973\n",
      "571\n",
      "104\n",
      "41\n",
      "35\n",
      "0.8536585365853658\n"
     ]
    }
   ],
   "source": [
    "combo_df = df[df['playPTS'] >= 25]\n",
    "print(len(combo_df))\n",
    "combo_df = combo_df[combo_df['playFG%'] >= 0.6]\n",
    "print(len(combo_df))\n",
    "combo_df = combo_df[combo_df['playAST'] >= 5]\n",
    "print(len(combo_df))\n",
    "combo_df = combo_df[combo_df['playTRB'] >= 5]\n",
    "print(len(combo_df))\n",
    "combo_df = combo_df[combo_df['playBLK'] >= 2]\n",
    "print(len(combo_df))\n",
    "combo_df = combo_df[combo_df['playSTL'] >= 2]\n",
    "print(len(combo_df))\n",
    "\n",
    "wcombo_df = combo_df[combo_df['teamRslt'] == 'Win']\n",
    "print(len(wcombo_df))\n",
    "print(len(wcombo_df) / len(combo_df))"
   ]
  },
  {
   "cell_type": "markdown",
   "metadata": {},
   "source": [
    "## If a player scored 25+ points while shooting at least 60% , had 5+ assists and rebounds, and had 2+ steals and blocks their team won over 85% of the time."
   ]
  },
  {
   "cell_type": "code",
   "execution_count": 98,
   "metadata": {},
   "outputs": [
    {
     "name": "stdout",
     "output_type": "stream",
     "text": [
      "3191\n",
      "2128\n",
      "1235\n",
      "0.5803571428571429\n"
     ]
    }
   ],
   "source": [
    "combo1_df = df[df['playPTS'] >= 30]\n",
    "print(len(combo1_df))\n",
    "combo1_df = combo1_df[combo1_df['playFG%'] <= 0.6] \n",
    "print(len(combo1_df))\n",
    "wcombo1_df = combo1_df[combo1_df['teamRslt'] == 'Win']\n",
    "print(len(wcombo1_df))\n",
    "\n",
    "print(len(wcombo1_df) / len(combo1_df))"
   ]
  },
  {
   "cell_type": "markdown",
   "metadata": {},
   "source": [
    "## Scoring 30+ points doesn't come close to guarenteeing a team victory"
   ]
  },
  {
   "cell_type": "code",
   "execution_count": 99,
   "metadata": {},
   "outputs": [
    {
     "data": {
      "text/plain": [
       "Index(['gmDate', 'gmTime', 'seasTyp', 'playLNm', 'playFNm', 'teamAbbr',\n",
       "       'teamConf', 'teamDiv', 'teamLoc', 'teamRslt', 'teamDayOff', 'offLNm1',\n",
       "       'offFNm1', 'offLNm2', 'offFNm2', 'offLNm3', 'offFNm3', 'playDispNm',\n",
       "       'playStat', 'playMin', 'playPos', 'playHeight', 'playWeight',\n",
       "       'playBDate', 'playPTS', 'playAST', 'playTO', 'playSTL', 'playBLK',\n",
       "       'playPF', 'playFGA', 'playFGM', 'playFG%', 'play2PA', 'play2PM',\n",
       "       'play2P%', 'play3PA', 'play3PM', 'play3P%', 'playFTA', 'playFTM',\n",
       "       'playFT%', 'playORB', 'playDRB', 'playTRB', 'opptAbbr', 'opptConf',\n",
       "       'opptDiv', 'opptLoc', 'opptRslt', 'opptDayOff'],\n",
       "      dtype='object')"
      ]
     },
     "execution_count": 99,
     "metadata": {},
     "output_type": "execute_result"
    }
   ],
   "source": [
    "df.columns"
   ]
  },
  {
   "cell_type": "code",
   "execution_count": 108,
   "metadata": {},
   "outputs": [
    {
     "name": "stdout",
     "output_type": "stream",
     "text": [
      "77002\n",
      "34\n",
      "28\n",
      "0.8235294117647058\n"
     ]
    }
   ],
   "source": [
    "height_df = df[df['playHeight'] >= 80]\n",
    "print(len(height_df))\n",
    "height_df = height_df[height_df['playAST'] > 13]\n",
    "print(len(height_df))\n",
    "wheight_df = height_df[height_df['teamRslt'] == 'Win']\n",
    "print(len(wheight_df))\n",
    "print(len(wheight_df) / len(height_df))"
   ]
  },
  {
   "cell_type": "code",
   "execution_count": 109,
   "metadata": {},
   "outputs": [
    {
     "name": "stdout",
     "output_type": "stream",
     "text": [
      "77002\n",
      "7\n",
      "7\n",
      "1.0\n"
     ]
    }
   ],
   "source": [
    "height_df = df[df['playHeight'] >= 80]\n",
    "print(len(height_df))\n",
    "height_df = height_df[height_df['playAST'] > 15]\n",
    "print(len(height_df))\n",
    "wheight_df = height_df[height_df['teamRslt'] == 'Win']\n",
    "print(len(wheight_df))\n",
    "print(len(wheight_df) / len(height_df))"
   ]
  },
  {
   "cell_type": "markdown",
   "metadata": {},
   "source": [
    "# Tall Players getting assists is a strong indicator of a team winning"
   ]
  },
  {
   "cell_type": "markdown",
   "metadata": {},
   "source": [
    "### if a player 6ft 8in or taller registers 13 or more assists their team wins over 82% of the time... A team has never lost when a player 6ft 8 in or taller tegistered 15 or more assists"
   ]
  },
  {
   "cell_type": "code",
   "execution_count": 141,
   "metadata": {},
   "outputs": [
    {
     "name": "stdout",
     "output_type": "stream",
     "text": [
      "81923\n",
      "1395\n",
      "101\n",
      "42\n",
      "30\n",
      "0.7142857142857143\n"
     ]
    }
   ],
   "source": [
    "bench_df = df[df['playStat'] == 'Bench']\n",
    "print(len(bench_df))\n",
    "# bench_df = bench_df[bench_df['playPTS'] >= 40]\n",
    "# print(len(bench_df))\n",
    "bench_df = bench_df[bench_df['playAST'] >= 7]\n",
    "print(len(bench_df))\n",
    "bench_df = bench_df[bench_df['playTRB'] >= 7]\n",
    "print(len(bench_df))\n",
    "bench_df = bench_df[bench_df['playFG%'] >= 0.5]\n",
    "print(len(bench_df))\n",
    "wbench_df = bench_df[bench_df['teamRslt'] == 'Win']\n",
    "print(len(wbench_df))\n",
    "print(len(wbench_df) / len(bench_df))"
   ]
  },
  {
   "cell_type": "markdown",
   "metadata": {},
   "source": [
    "# If a team has a bench player that that records 7 assists, 7 rebounds, and shoots over 50% they win over 70% of the time."
   ]
  },
  {
   "cell_type": "code",
   "execution_count": 152,
   "metadata": {},
   "outputs": [
    {
     "name": "stdout",
     "output_type": "stream",
     "text": [
      "159\n",
      "76\n",
      "52\n",
      "0.6842105263157895\n"
     ]
    }
   ],
   "source": [
    "ft_df = df[df['playFTA'] >= 18]\n",
    "print(len(ft_df))\n",
    "ft_df = ft_df[ft_df['playFT%'] >= 0.8]\n",
    "print(len(ft_df))\n",
    "wft_df = ft_df[ft_df['teamRslt'] == 'Win']\n",
    "print(len(wft_df))\n",
    "print(len(wft_df) / len(ft_df))"
   ]
  },
  {
   "cell_type": "markdown",
   "metadata": {},
   "source": [
    "### If a player shoots 18+ freethrows and makes at least 80% of them their team wins over 68% of the time."
   ]
  },
  {
   "cell_type": "code",
   "execution_count": 176,
   "metadata": {},
   "outputs": [
    {
     "name": "stdout",
     "output_type": "stream",
     "text": [
      "18535\n",
      "6918\n",
      "3953\n",
      "1712\n",
      "685\n",
      "491\n",
      "0.7167883211678832\n"
     ]
    }
   ],
   "source": [
    "combo2_df = df[df['playPTS'] >= 20]\n",
    "print(len(combo2_df))\n",
    "combo2_df = combo2_df[combo2_df['playAST'] >= 5] \n",
    "print(len(combo2_df))\n",
    "combo2_df = combo2_df[combo2_df['playTRB'] >= 5] \n",
    "print(len(combo2_df))\n",
    "combo2_df = combo2_df[combo2_df['playSTL'] >= 2] \n",
    "print(len(combo2_df))\n",
    "combo2_df = combo2_df[combo2_df['playTO'] <= 2] \n",
    "print(len(combo2_df))\n",
    "wcombo2_df = combo2_df[combo2_df['teamRslt'] == 'Win']\n",
    "print(len(wcombo2_df))\n",
    "\n",
    "print(len(wcombo2_df) / len(combo2_df))"
   ]
  },
  {
   "cell_type": "markdown",
   "metadata": {},
   "source": [
    "# If a player records over 20 points, 5 assists, 5 rebounds, 2 steals, and has no more than 2 TOs their team wins over 71% of the time"
   ]
  },
  {
   "cell_type": "code",
   "execution_count": null,
   "metadata": {},
   "outputs": [],
   "source": []
  }
 ],
 "metadata": {
  "kernelspec": {
   "display_name": "Python [conda env:data-env] *",
   "language": "python",
   "name": "conda-env-data-env-py"
  },
  "language_info": {
   "codemirror_mode": {
    "name": "ipython",
    "version": 3
   },
   "file_extension": ".py",
   "mimetype": "text/x-python",
   "name": "python",
   "nbconvert_exporter": "python",
   "pygments_lexer": "ipython3",
   "version": "3.7.3"
  }
 },
 "nbformat": 4,
 "nbformat_minor": 2
}
